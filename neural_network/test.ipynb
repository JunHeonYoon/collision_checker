{
 "cells": [
  {
   "cell_type": "code",
   "execution_count": 58,
   "metadata": {},
   "outputs": [],
   "source": [
    "import torch\n",
    "import torch.nn as nn\n",
    "\n",
    "# 예시 데이터\n",
    "batch_size = 4  # 배치 크기\n",
    "num_events = 9  # 이벤트 개수\n"
   ]
  },
  {
   "cell_type": "code",
   "execution_count": 67,
   "metadata": {},
   "outputs": [
    {
     "name": "stdout",
     "output_type": "stream",
     "text": [
      "tensor([[0.4217, 0.8092, 0.0341, 0.5127, 0.7009, 0.6083, 0.3927, 0.3558, 0.8781],\n",
      "        [0.3614, 0.9641, 0.2632, 0.7411, 0.1855, 0.0049, 0.9723, 0.7857, 0.0312],\n",
      "        [0.2760, 0.8210, 0.3146, 0.5538, 0.1929, 0.9110, 0.5147, 0.2747, 0.7482],\n",
      "        [0.7167, 0.3775, 0.7702, 0.5664, 0.6772, 0.7467, 0.6182, 0.0252, 0.7397]])\n",
      "tensor([[0., 0., 0., 0., 0., 0., 1., 1., 0.],\n",
      "        [0., 0., 0., 0., 1., 0., 1., 1., 0.],\n",
      "        [0., 0., 0., 1., 0., 1., 0., 0., 0.],\n",
      "        [0., 1., 1., 1., 0., 1., 0., 0., 1.]])\n"
     ]
    }
   ],
   "source": [
    "# 모델 출력과 레이블 생성\n",
    "model_output = torch.rand(batch_size, num_events)  # 모델 출력 (0~1 사이의 랜덤 값)\n",
    "labels = torch.randint(0, 2, (batch_size, num_events)).float()  # 레이블 (0 또는 1)\n",
    "\n",
    "print(model_output)\n",
    "print(labels)"
   ]
  },
  {
   "cell_type": "code",
   "execution_count": 68,
   "metadata": {},
   "outputs": [
    {
     "name": "stdout",
     "output_type": "stream",
     "text": [
      "tensor([0.4789, 0.3218, 0.4851, 0.7658, 0.1595, 0.8769, 0.5706, 0.9301, 0.4311])\n"
     ]
    }
   ],
   "source": [
    "# 가중치 생성 (각 이벤트 별로 다른 가중치 부여)\n",
    "weights = torch.rand(num_events)  # 가중치 (0~1 사이의 랜덤 값)\n",
    "print(weights)"
   ]
  },
  {
   "cell_type": "code",
   "execution_count": 69,
   "metadata": {},
   "outputs": [
    {
     "name": "stdout",
     "output_type": "stream",
     "text": [
      "0.36551424860954285\n"
     ]
    }
   ],
   "source": [
    "# BCE Loss 계산\n",
    "criterion = nn.BCELoss(weight=weights, reduction=\"mean\")  # Binary Cross Entropy Loss 객체 생성\n",
    "loss = criterion(model_output, labels)  # 모델 출력과 레이블로 손실 계산\n",
    "\n",
    "print(loss.item())"
   ]
  },
  {
   "cell_type": "code",
   "execution_count": 70,
   "metadata": {},
   "outputs": [
    {
     "name": "stdout",
     "output_type": "stream",
     "text": [
      "tensor([[0, 1, 0, 1, 1, 1, 0, 0, 1],\n",
      "        [0, 1, 0, 1, 0, 0, 1, 1, 0],\n",
      "        [0, 1, 0, 1, 0, 1, 1, 0, 1],\n",
      "        [1, 0, 1, 1, 1, 1, 1, 0, 1]], dtype=torch.int32)\n"
     ]
    }
   ],
   "source": [
    "y_hat_bin = (model_output > 0.5).type(torch.int32)\n",
    "print(y_hat_bin)"
   ]
  },
  {
   "cell_type": "code",
   "execution_count": 78,
   "metadata": {},
   "outputs": [
    {
     "data": {
      "text/plain": [
       "0"
      ]
     },
     "execution_count": 78,
     "metadata": {},
     "output_type": "execute_result"
    }
   ],
   "source": [
    "(y_hat_bin == labels).sum(dim=0)[1].item()"
   ]
  },
  {
   "cell_type": "code",
   "execution_count": 81,
   "metadata": {},
   "outputs": [
    {
     "name": "stdout",
     "output_type": "stream",
     "text": [
      "tensor([[nan, inf, nan, inf, inf, inf, 0., 0., inf],\n",
      "        [nan, inf, nan, inf, 0., nan, 1., 1., nan],\n",
      "        [nan, inf, nan, 1., nan, 1., inf, nan, inf],\n",
      "        [inf, 0., 1., 1., inf, 1., inf, nan, 1.]])\n",
      "tensor([nan, nan, nan, 1.])\n"
     ]
    }
   ],
   "source": [
    "confusion_vector = y_hat_bin / labels\n",
    "print(confusion_vector)\n",
    "print(confusion_vector[:,2])"
   ]
  },
  {
   "cell_type": "code",
   "execution_count": 83,
   "metadata": {},
   "outputs": [
    {
     "data": {
      "text/plain": [
       "1"
      ]
     },
     "execution_count": 83,
     "metadata": {},
     "output_type": "execute_result"
    }
   ],
   "source": [
    "torch.sum(confusion_vector[:,2] == 1).item()"
   ]
  },
  {
   "cell_type": "code",
   "execution_count": null,
   "metadata": {},
   "outputs": [],
   "source": []
  }
 ],
 "metadata": {
  "kernelspec": {
   "display_name": "junheon",
   "language": "python",
   "name": "python3"
  },
  "language_info": {
   "codemirror_mode": {
    "name": "ipython",
    "version": 3
   },
   "file_extension": ".py",
   "mimetype": "text/x-python",
   "name": "python",
   "nbconvert_exporter": "python",
   "pygments_lexer": "ipython3",
   "version": "3.8.16"
  },
  "orig_nbformat": 4
 },
 "nbformat": 4,
 "nbformat_minor": 2
}
